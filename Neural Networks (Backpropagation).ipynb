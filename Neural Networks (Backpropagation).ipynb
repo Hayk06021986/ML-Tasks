{
 "cells": [
  {
   "cell_type": "code",
   "execution_count": 2,
   "metadata": {},
   "outputs": [
    {
     "name": "stdout",
     "output_type": "stream",
     "text": [
      "iterations. 0  Error.0.39200103381930296\n",
      "iterations. 10000  Error.0.0541792445113998\n",
      "iterations. 20000  Error.0.03360066826846902\n",
      "iterations. 30000  Error.0.026053429928517533\n",
      "iterations. 40000  Error.0.021909653949618683\n",
      "iterations. 50000  Error.0.019215713749969235\n",
      "iterations. 60000  Error.0.017291373397968646\n",
      "iterations. 70000  Error.0.015831385081382078\n",
      "iterations. 80000  Error.0.014676266818941203\n",
      "iterations. 90000  Error.0.013733703010518527\n",
      "iterations. 100000  Error.0.012946148530745195\n",
      "iterations. 110000  Error.0.012275659613497771\n",
      "iterations. 120000  Error.0.011696088279228991\n",
      "iterations. 130000  Error.0.011188762043782094\n",
      "iterations. 140000  Error.0.010739949457963343\n",
      "iterations. 150000  Error.0.010339300854369371\n",
      "iterations. 160000  Error.0.009978850250685973\n",
      "iterations. 170000  Error.0.009652354625107305\n",
      "iterations. 180000  Error.0.009354843727884319\n",
      "iterations. 190000  Error.0.00908230556574089\n",
      "Resulting Value: \n",
      "[[0.99165689]\n",
      " [0.98923193]\n",
      " [0.99836303]\n",
      " [0.0145777 ]]\n"
     ]
    },
    {
     "data": {
      "image/png": "[encoded data removed]",
      "text/plain": [
       "<Figure size 432x288 with 1 Axes>"
      ]
     },
     "metadata": {
      "needs_background": "light"
     },
     "output_type": "display_data"
    }
   ],
   "source": [
    "import numpy as np\n",
    "import matplotlib.pyplot as plt\n",
    "\n",
    "X=np.array([[1,0],[0,1],[0,0],[1,1]])\n",
    "y=np.array([[1],[1],[1],[0]])\n",
    "w1=np.random.randn(2,3)\n",
    "w2=np.random.randn(3,1)\n",
    "\n",
    "def sigmoid(x):\n",
    "    return 1/(1+np.exp(-x))\n",
    "\n",
    "def sigmoid_deriv(x):\n",
    "    return  np.exp(-x)/((1+np.exp(-x))**2)\n",
    "\n",
    "def Forward(x,w1,w2,predict=False):\n",
    "    a1=np.dot(x,w1)\n",
    "    z1=sigmoid(a1)\n",
    "    a2=np.dot(z1,w2)\n",
    "    z2=sigmoid(a2)\n",
    "    if predict:\n",
    "        return z2\n",
    "    return a1,z1,a2,z2\n",
    "\n",
    "def backprop(a1,a2,z0,z1,z2,y):\n",
    "   \n",
    "    delta=z2-y\n",
    "    \n",
    "    Delta2=np.multiply(delta,sigmoid_deriv(a2))\n",
    "    dJdW2=np.dot(z1.T,Delta2)\n",
    "    \n",
    "    Delta1 = np.dot(Delta2, w2.T)*sigmoid_deriv(a1)\n",
    "    dJdW1=np.dot(z0.T,Delta1)\n",
    "    \n",
    "    return delta, dJdW2, dJdW1\n",
    "\n",
    "alpha = 0.05\n",
    "cost=[]\n",
    "m=len(X)\n",
    "epochs=200000\n",
    "\n",
    "for i in range(epochs):\n",
    "    a1,z1,a2,z2=Forward(X,w1,w2)\n",
    "    delta,dJdW2,dJdW1=backprop(a1,a2,X,z1,z2,y)\n",
    "    w1-=alpha*dJdW1\n",
    "    w2-=alpha*dJdW2\n",
    "    c=np.mean(abs(delta))\n",
    "    cost.append(c)\n",
    "    if i%10000==0:\n",
    "         print(f\"iterations. {i}  Error.{c}\")\n",
    "        \n",
    "z3=Forward(X,w1,w2,True)\n",
    "print(\"Resulting Value: \")\n",
    "print(z3)\n",
    "\n",
    "plt.plot(cost)\n",
    "plt.show()\n"
   ]
  },
  {
   "cell_type": "code",
   "execution_count": 6,
   "metadata": {},
   "outputs": [
    {
     "name": "stdout",
     "output_type": "stream",
     "text": [
      "iterations. 0  Error.0.062483983905845086\n",
      "iterations. 10000  Error.1.0456236876343894e-08\n",
      "iterations. 20000  Error.8.770761894538737e-15\n",
      "iterations. 30000  Error.8.548717289613705e-15\n",
      "iterations. 40000  Error.8.548717289613705e-15\n",
      "iterations. 50000  Error.8.548717289613705e-15\n",
      "iterations. 60000  Error.8.548717289613705e-15\n",
      "iterations. 70000  Error.8.548717289613705e-15\n",
      "iterations. 80000  Error.8.548717289613705e-15\n",
      "iterations. 90000  Error.8.548717289613705e-15\n",
      "iterations. 100000  Error.8.548717289613705e-15\n",
      "iterations. 110000  Error.8.548717289613705e-15\n",
      "iterations. 120000  Error.8.548717289613705e-15\n",
      "iterations. 130000  Error.8.548717289613705e-15\n",
      "iterations. 140000  Error.8.548717289613705e-15\n",
      "iterations. 150000  Error.8.548717289613705e-15\n",
      "iterations. 160000  Error.8.548717289613705e-15\n",
      "iterations. 170000  Error.8.548717289613705e-15\n",
      "iterations. 180000  Error.8.548717289613705e-15\n",
      "iterations. 190000  Error.8.548717289613705e-15\n",
      "Resulting Value: \n",
      "0.6999999999999914\n"
     ]
    },
    {
     "data": {
      "image/png": "[encoded data removed]",
      "text/plain": [
       "<Figure size 432x288 with 1 Axes>"
      ]
     },
     "metadata": {
      "needs_background": "light"
     },
     "output_type": "display_data"
    }
   ],
   "source": [
    "import numpy as np\n",
    "import matplotlib.pyplot as plt\n",
    "\n",
    "X=np.array([0.2,0.6])\n",
    "y=0.7\n",
    "w1=np.array([[0.1, 0.3],[0.3, 0.4]])\n",
    "w2=np.array([0.4,0.6])\n",
    "\n",
    "\n",
    "def sigmoid(x):\n",
    "    return 1/(1+np.exp(-x))\n",
    "\n",
    "def sigmoid_deriv(x):\n",
    "    return  np.exp(-x)/((1+np.exp(-x))**2)\n",
    "\n",
    "\n",
    "def Forward(x,w1,w2,predict=False):\n",
    "    a1=np.dot(x,w1)\n",
    "    z1=sigmoid(a1)\n",
    "    a2=np.dot(z1,w2)\n",
    "    z2=sigmoid(a2)\n",
    "    if predict:\n",
    "        return z2\n",
    "    return a1,z1,a2,z2\n",
    "\n",
    "def backprop(a1,a2,z0,z1,z2,y):\n",
    "   \n",
    "    delta=z2-y\n",
    "    \n",
    "    Delta2=np.multiply(delta,sigmoid_deriv(a2))\n",
    "    dJdW2=np.dot(z1.T,Delta2)\n",
    "    \n",
    "    Delta1 = np.dot(Delta2, w2.T)*sigmoid_deriv(a1)\n",
    "    dJdW1=np.dot(z0.T,Delta1)\n",
    "    \n",
    "    return delta, dJdW2, dJdW1\n",
    "\n",
    "alpha = 0.05\n",
    "cost=[]\n",
    "m=len(X)\n",
    "epochs=200000\n",
    "\n",
    "for i in range(epochs):\n",
    "    a1,z1,a2,z2=Forward(X,w1,w2)\n",
    "    delta,dJdW2,dJdW1=backprop(a1,a2,X,z1,z2,y)\n",
    "    w1-=alpha*dJdW1\n",
    "    w2-=alpha*dJdW2\n",
    "    c=np.mean(abs(delta))\n",
    "    cost.append(c)\n",
    "    if i%10000==0:\n",
    "         print(f\"iterations. {i}  Error.{c}\")\n",
    "        \n",
    "z3=Forward(X,w1,w2,True)\n",
    "print(\"Resulting Value: \")\n",
    "print(z3)\n",
    "\n",
    "plt.plot(cost)\n",
    "plt.show()"
   ]
  },
  {
   "cell_type": "code",
   "execution_count": null,
   "metadata": {},
   "outputs": [],
   "source": []
  },
  {
   "cell_type": "code",
   "execution_count": null,
   "metadata": {},
   "outputs": [],
   "source": []
  },
  {
   "cell_type": "code",
   "execution_count": null,
   "metadata": {},
   "outputs": [],
   "source": []
  }
 ],
 "metadata": {
  "kernelspec": {
   "display_name": "Python 3",
   "language": "python",
   "name": "python3"
  },
  "language_info": {
   "codemirror_mode": {
    "name": "ipython",
    "version": 3
   },
   "file_extension": ".py",
   "mimetype": "text/x-python",
   "name": "python",
   "nbconvert_exporter": "python",
   "pygments_lexer": "ipython3",
   "version": "3.8.5"
  }
 },
 "nbformat": 4,
 "nbformat_minor": 4
}
